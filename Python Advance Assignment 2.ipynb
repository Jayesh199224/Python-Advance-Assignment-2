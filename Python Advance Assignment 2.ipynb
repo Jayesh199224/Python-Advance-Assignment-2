{
 "cells": [
  {
   "cell_type": "code",
   "execution_count": null,
   "metadata": {},
   "outputs": [],
   "source": [
    "#Q1. What is the relationship between classes and modules?\n",
    "#ans = modules are the python files in which we write codes and while coding you just have to call the particular file. Classes can be written in the modules.\n"
   ]
  },
  {
   "cell_type": "code",
   "execution_count": null,
   "metadata": {},
   "outputs": [],
   "source": [
    "#Q2. How do you make instances and classes?\n",
    "#ans = to make instance you will have to use __init__ method (e.g - class animal: and with indentation def __init__)and while making a class you will have to just define the class (e.g - class animal:)"
   ]
  },
  {
   "cell_type": "code",
   "execution_count": 8,
   "metadata": {},
   "outputs": [
    {
     "name": "stdout",
     "output_type": "stream",
     "text": [
      "sd\n"
     ]
    }
   ],
   "source": [
    "#Q3. Where and how should be class attributes created?\n",
    "#ans = A class attributes should be created in the class itself and out side of the constructer __init__.\n",
    "#e.g.\n",
    "class product :\n",
    "    name = \"sd\"\n",
    "    print(product.name)"
   ]
  },
  {
   "cell_type": "code",
   "execution_count": 9,
   "metadata": {},
   "outputs": [],
   "source": [
    "#Q4. Where and how are instance attributes created?\n",
    "#ans = the instance is created in the object of the class that is inside of the contructer __init__.\n",
    "#e.g\n",
    "class product:\n",
    "    def __init__(self,name):\n",
    "        self.name = name"
   ]
  },
  {
   "cell_type": "code",
   "execution_count": null,
   "metadata": {},
   "outputs": [],
   "source": [
    "#Q5. What does the term \"self\" in a Python class mean?\n",
    "#ans =  the term \"self\" is related to the parent class which we created."
   ]
  },
  {
   "cell_type": "code",
   "execution_count": 10,
   "metadata": {},
   "outputs": [
    {
     "name": "stdout",
     "output_type": "stream",
     "text": [
      "3\n",
      "jp\n"
     ]
    }
   ],
   "source": [
    "#Q6. How does a Python class handle operator overloading?\n",
    "#ans = Some of the operator in pyhton class behave different with different methods as of \"+\" sign\n",
    "#e.g.\n",
    "print(1+2)\n",
    "print('j'+'p')\n",
    "#this is how python class handles operator overloading."
   ]
  },
  {
   "cell_type": "code",
   "execution_count": null,
   "metadata": {},
   "outputs": [],
   "source": [
    "#Q7. When do you consider allowing operator overloading of your classes?\n",
    "#ans = when the operator can be used in multiple places in the code at that time you can consider allowing operator overloading of your classes"
   ]
  },
  {
   "cell_type": "code",
   "execution_count": null,
   "metadata": {},
   "outputs": [],
   "source": [
    "#Q8. What is the most popular form of operator overloading?\n",
    "#ans =  the most popular form of operator overloading is addition(+)."
   ]
  },
  {
   "cell_type": "code",
   "execution_count": null,
   "metadata": {},
   "outputs": [],
   "source": [
    "#Q9. What are the two most important concepts to grasp in order to comprehend Python OOP code?\n",
    "#ans = the two most important concepts to grasp in order to comprehend python OOP code are\n",
    "#1. Inheritance\n",
    "#2. Encapsulation"
   ]
  }
 ],
 "metadata": {
  "kernelspec": {
   "display_name": "Python 3",
   "language": "python",
   "name": "python3"
  },
  "language_info": {
   "codemirror_mode": {
    "name": "ipython",
    "version": 3
   },
   "file_extension": ".py",
   "mimetype": "text/x-python",
   "name": "python",
   "nbconvert_exporter": "python",
   "pygments_lexer": "ipython3",
   "version": "3.8.5"
  }
 },
 "nbformat": 4,
 "nbformat_minor": 4
}
